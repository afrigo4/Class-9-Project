{
    "cells": [
        {
            "cell_type": "markdown",
            "metadata": {
                "collapsed": true
            },
            "source": "# Coursera Capstone Project\n## The Battle of Neighborhoods (Part 1)\n#### Coursera Capstone - REPORT CONTENT\n1. Introduction Section : \u2043 Discussion of the business problem and the interested audience in this project.\nData Section:\n2. Description of the data that will be used to solve the problem and the sources.\n3. Methodology section \u2043 Discussion and description of exploratory data analysis carried out, any inferential statistical testing performed, and if any machine learnings were used establishing the strategy and purposes.\n4. Results section \u2043 Discussion of the results.\n5. Discussion section \u2043 Elaboration and discussion on any observations noted and any recommendations suggested based on the results.\n6. Conclusion section \u2043 Report Conclusion.\n## 1.) Intro"
        },
        {
            "cell_type": "code",
            "execution_count": null,
            "metadata": {},
            "outputs": [
                {
                    "name": "stdout",
                    "output_type": "stream",
                    "text": "Solving environment: - "
                }
            ],
            "source": "import numpy as np # library to handle data in a vectorized manner\nimport time\nimport pandas as pd # library for data analsysis\npd.set_option('display.max_columns', None)\npd.set_option('display.max_rows', None)\n\nimport json # library to handle JSON files\nimport requests # library to handle requests\nfrom pandas.io.json import json_normalize # tranform JSON file into a pandas dataframe\n\nfrom geopy.geocoders import Nominatim # convert an address into latitude and longitude values\n!conda install -c conda-forge folium=0.5.0 --yes # uncomment this line if you haven't completed the Foursquare API lab\nimport folium # map rendering library\n\nprint('Libraries imported.')"
        },
        {
            "cell_type": "markdown",
            "metadata": {},
            "source": "### Scenario:\nI am a beginner data scientist. I currently live with my parents in the suburbs of Chicago. I have been offered an opportunity to interview and work for a company in Chicago, Illinois. I am very excited and I want to use this opportunity to practice my learnings in Coursera in order to be prepared for the area and for possible interview questions. The key question is : How can I find a convenient and enjoyable place similar to mine now in the suburbs? Certainly, I can use available real estate apps and Google but the idea is to use and apply the tools from the program. In order to make a comparison and evaluation of the rental options in Chicago, IL, I must set some basis, therefore the apartment in Chicago must meet the following demands:\n\n1. Apartment must be 2 or 3 bedrooms.\n2. Desired location is near a Metra Station within 1.0 mile (1.6 km) radius.\n3. Price of rent not exceed $3,000 per month.\n4. Top ammenities in the selected neighborhood would be cafes, entertainment centers, international restaurants, and grocery stores. \n5. Desirable to have venues such as cafes, restaurants, liquor stores, gyms, and grocery stores."
        },
        {
            "cell_type": "markdown",
            "metadata": {},
            "source": "### Problem:\nThe challenge is to find a suitable apartment for rent in Chicago, IL that complies with the demands on location, price and venues. The data required to resolve this challenge is described in the following section 2, below.\n### Audience:\nThis gives information to, and helps, anyone planning on moving to a big city like Chicago from less populous places in the US or the rest of the world. This also serves as practice in the development of a solid Data Science tool box of skills. "
        },
        {
            "cell_type": "markdown",
            "metadata": {},
            "source": "## 2. Data\n**Description of the data and its sources that will be used to solve the problem**"
        },
        {
            "cell_type": "markdown",
            "metadata": {},
            "source": "### Description:\nThe following data is required to answer the issues of the problem:\n\n1. List of neighborhoods in Chicago with their geodata (latitude and longitude).\n2. List of Metra/CTA stations in Chicago with their address.\n3. List of apartments for rent in Chicago area with their address and price.\n4. Preferably, a list of apartment for rent with additional information, such as price, address, area, # of beds, etc.\n5. Venues for each Chicago neighborhood ( than can be clustered).\n6. Venues for subway Metra stations, as needed.\n\n### How the data will be used to solve the problem\nThe data will be used as follows:\n\n1. Use Foursquare and geopy data to map top 10 venues for all Chicago neighborhoods and clustered in groups.\n2. Use foursquare and geopy data to map the location of Metra/CTA stations , separately and on top of the above clustered map in order to be able to identify the venues and ammenities near each station, or explore each subway location separately.\n3. Use Foursquare and geopy data to map the location of rental places, in some form, linked to the subway location.\n4. Create a map that depicts, for instance, the average rental price per square ft, around a radious of 1.0 mile (1.6 km) around each subway station. I will be able to quickly point to the popups to know the relative price per subway area.\n5. Addresses from rental locations will be converted to geodata( lat, long) using Geopy-distance and Nominatim.\n6. Data will be searched in open data sources if available, from real estate sites if open to reading, libraries or other government agencies.\n\n**The procesing of these DATA will allow to answer the key questions to make a decision:**\n\n    1. What is the cost of rent (per square ft) around a mile radius from each Metra/CTA station?\n    2. What is the area of Manhattan with best rental pricing that meets criteria established?\n    3. What is the distance from work to the tentative future home?\n    4. What are the venues of the two best places to live? How the prices compare?\n    5. How venues distribute among Chicago neighborhoods and around Metra/CTA stations?\n    6. Are there tradeoffs between size and price and location?\n    7. Any other interesting statistical data findings of the real estate and overall data.\n\n#### Reference of venues around current residence in the suburbs for comparison to Chicago"
        },
        {
            "cell_type": "code",
            "execution_count": null,
            "metadata": {},
            "outputs": [],
            "source": "address = 'Elk Grove Village, Illinois'\n\ngeolocator = Nominatim()\nlocation = geolocator.geocode(address)\nlatitude = location.latitude\nlongitude = location.longitude\nprint('The geograpical coordinate of Illinois home is {}, {}.'.format(latitude, longitude))"
        },
        {
            "cell_type": "code",
            "execution_count": null,
            "metadata": {},
            "outputs": [],
            "source": ""
        }
    ],
    "metadata": {
        "kernelspec": {
            "display_name": "Python 3.6",
            "language": "python",
            "name": "python3"
        },
        "language_info": {
            "codemirror_mode": {
                "name": "ipython",
                "version": 3
            },
            "file_extension": ".py",
            "mimetype": "text/x-python",
            "name": "python",
            "nbconvert_exporter": "python",
            "pygments_lexer": "ipython3",
            "version": "3.6.9"
        }
    },
    "nbformat": 4,
    "nbformat_minor": 1
}