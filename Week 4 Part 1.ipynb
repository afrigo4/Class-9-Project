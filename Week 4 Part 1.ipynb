{
    "cells": [
        {
            "cell_type": "markdown",
            "metadata": {
                "collapsed": true
            },
            "source": "# Coursera Capstone Project\n## The Battle of Neighborhoods (Part 1)\n#### Coursera Capstone - REPORT CONTENT\n1. Introduction Section : \u2043 Discussion of the business problem and the interested audience in this project.\nData Section:\n2. Description of the data that will be used to solve the problem and the sources.\n3. Methodology section \u2043 Discussion and description of exploratory data analysis carried out, any inferential statistical testing performed, and if any machine learnings were used establishing the strategy and purposes.\n4. Results section \u2043 Discussion of the results.\n5. Discussion section \u2043 Elaboration and discussion on any observations noted and any recommendations suggested based on the results.\n6. Conclusion section \u2043 Report Conclusion.\n## 1.) Intro"
        },
        {
            "cell_type": "code",
            "execution_count": 1,
            "metadata": {},
            "outputs": [
                {
                    "name": "stdout",
                    "output_type": "stream",
                    "text": "Solving environment: done\n\n## Package Plan ##\n\n  environment location: /opt/conda/envs/Python36\n\n  added / updated specs: \n    - folium=0.5.0\n\n\nThe following packages will be downloaded:\n\n    package                    |            build\n    ---------------------------|-----------------\n    branca-0.3.1               |             py_0          25 KB  conda-forge\n    folium-0.5.0               |             py_0          45 KB  conda-forge\n    vincent-0.4.4              |             py_1          28 KB  conda-forge\n    ca-certificates-2019.11.28 |       hecc5488_0         145 KB  conda-forge\n    altair-4.0.1               |             py_0         575 KB  conda-forge\n    certifi-2019.11.28         |           py36_0         149 KB  conda-forge\n    openssl-1.1.1d             |       h516909a_0         2.1 MB  conda-forge\n    ------------------------------------------------------------\n                                           Total:         3.0 MB\n\nThe following NEW packages will be INSTALLED:\n\n    altair:          4.0.1-py_0        conda-forge\n    branca:          0.3.1-py_0        conda-forge\n    folium:          0.5.0-py_0        conda-forge\n    vincent:         0.4.4-py_1        conda-forge\n\nThe following packages will be UPDATED:\n\n    ca-certificates: 2019.11.27-0                  --> 2019.11.28-hecc5488_0 conda-forge\n    certifi:         2019.11.28-py36_0             --> 2019.11.28-py36_0     conda-forge\n\nThe following packages will be DOWNGRADED:\n\n    openssl:         1.1.1d-h7b6447c_3             --> 1.1.1d-h516909a_0     conda-forge\n\n\nDownloading and Extracting Packages\nbranca-0.3.1         | 25 KB     | ##################################### | 100% \nfolium-0.5.0         | 45 KB     | ##################################### | 100% \nvincent-0.4.4        | 28 KB     | ##################################### | 100% \nca-certificates-2019 | 145 KB    | ##################################### | 100% \naltair-4.0.1         | 575 KB    | ##################################### | 100% \ncertifi-2019.11.28   | 149 KB    | ##################################### | 100% \nopenssl-1.1.1d       | 2.1 MB    | ##################################### | 100% \nPreparing transaction: done\nVerifying transaction: done\nExecuting transaction: done\nLibraries imported.\n"
                }
            ],
            "source": "import numpy as np # library to handle data in a vectorized manner\nimport time\nimport pandas as pd # library for data analsysis\npd.set_option('display.max_columns', None)\npd.set_option('display.max_rows', None)\n\nimport json # library to handle JSON files\nimport requests # library to handle requests\nfrom pandas.io.json import json_normalize # tranform JSON file into a pandas dataframe\n\nfrom geopy.geocoders import Nominatim # convert an address into latitude and longitude values\n!conda install -c conda-forge folium=0.5.0 --yes # uncomment this line if you haven't completed the Foursquare API lab\nimport folium # map rendering library\n\nprint('Libraries imported.')"
        },
        {
            "cell_type": "markdown",
            "metadata": {},
            "source": "### Scenario:\nI am a beginner data scientist. I currently live with my parents in the suburbs of Chicago. I have been offered an opportunity to interview and work for a company in Chicago, Illinois. I am very excited and I want to use this opportunity to practice my learnings in Coursera in order to be prepared for the area and for possible interview questions. The key question is : How can I find a convenient and enjoyable place similar to mine now in the suburbs? Certainly, I can use available real estate apps and Google but the idea is to use and apply the tools from the program. In order to make a comparison and evaluation of the rental options in Chicago, IL, I must set some basis, therefore the apartment in Chicago must meet the following demands:\n\n1. Apartment must be 2 or 3 bedrooms.\n2. Desired location is near a Metra Station within 1.0 mile (1.6 km) radius.\n3. Price of rent not exceed $3,000 per month.\n4. Top ammenities in the selected neighborhood would be cafes, entertainment centers, international restaurants, and grocery stores. \n5. Desirable to have venues such as cafes, restaurants, liquor stores, gyms, and grocery stores."
        },
        {
            "cell_type": "markdown",
            "metadata": {},
            "source": "### Problem:\nThe challenge is to find a suitable apartment for rent in Chicago, IL that complies with the demands on location, price and venues. The data required to resolve this challenge is described in the following section 2, below.\n### Audience:\nThis gives information to, and helps, anyone planning on moving to a big city like Chicago from less populous places in the US or the rest of the world. This also serves as practice in the development of a solid Data Science tool box of skills. "
        },
        {
            "cell_type": "markdown",
            "metadata": {},
            "source": "## 2. Data\n**Description of the data and its sources that will be used to solve the problem**"
        },
        {
            "cell_type": "markdown",
            "metadata": {},
            "source": "### Description:\nThe following data is required to answer the issues of the problem:\n\nList of neighborhoods in Chicago with their geodata (latitude and longitude).\nList of Metra/CTA stations in Chicago with their address.\nList of apartments for rent in Chicago area with their address and price.\nPreferably, a list of apartment for rent with additional information, such as price, address, area, # of beds, etc.\nVenues for each Chicago neighborhood ( than can be clustered).\nVenues for subway Metra stations, as needed."
        }
    ],
    "metadata": {
        "kernelspec": {
            "display_name": "Python 3.6",
            "language": "python",
            "name": "python3"
        },
        "language_info": {
            "codemirror_mode": {
                "name": "ipython",
                "version": 3
            },
            "file_extension": ".py",
            "mimetype": "text/x-python",
            "name": "python",
            "nbconvert_exporter": "python",
            "pygments_lexer": "ipython3",
            "version": "3.6.9"
        }
    },
    "nbformat": 4,
    "nbformat_minor": 1
}